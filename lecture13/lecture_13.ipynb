{
 "cells": [
  {
   "cell_type": "code",
   "execution_count": null,
   "metadata": {},
   "outputs": [],
   "source": []
  },
  {
   "cell_type": "code",
   "execution_count": 7,
   "metadata": {},
   "outputs": [
    {
     "name": "stdout",
     "output_type": "stream",
     "text": [
      "['PassengerId', 'Pclass', 'Name', 'Sex', 'Age', 'SibSp', 'Parch', 'Ticket', 'Fare', 'Cabin', 'Embarked']\n",
      "['\"892', '3', '\"\"Kelly', ' Mr. James\"\"', 'male', '34.5', '0', '0', '330911', '7.8292', '', 'Q\"']\n",
      "['\"893', '3', '\"\"Wilkes', ' Mrs. James (Ellen Needs)\"\"', 'female', '47', '1', '0', '363272', '7', '', 'S\"']\n",
      "['\"894', '2', '\"\"Myles', ' Mr. Thomas Francis\"\"', 'male', '62', '0', '0', '240276', '9.6875', '', 'Q\"']\n",
      "['\"895', '3', '\"\"Wirz', ' Mr. Albert\"\"', 'male', '27', '0', '0', '315154', '8.6625', '', 'S\"']\n",
      "['\"896', '3', '\"\"Hirvonen', ' Mrs. Alexander (Helga E Lindqvist)\"\"', 'female', '22', '1', '1', '3101298', '12.2875', '', 'S\"']\n",
      "['\"897', '3', '\"\"Svensson', ' Mr. Johan Cervin\"\"', 'male', '14', '0', '0', '7538', '9.225', '', 'S\"']\n",
      "['\"898', '3', '\"\"Connolly', ' Miss. Kate\"\"', 'female', '30', '0', '0', '330972', '7.6292', '', 'Q\"']\n",
      "['\"899', '2', '\"\"Caldwell', ' Mr. Albert Francis\"\"', 'male', '26', '1', '1', '248738', '29', '', 'S\"']\n",
      "['\"900', '3', '\"\"Abrahim', ' Mrs. Joseph (Sophie Halaut Easu)\"\"', 'female', '18', '0', '0', '2657', '7.2292', '', 'C\"']\n"
     ]
    }
   ],
   "source": [
    "file = open('test.csv', 'r')\n",
    "file_lines=file.readlines()\n",
    "for i in range(10):\n",
    "    print(file_lines[i].strip('\\n').split(','))\n",
    "file.close()"
   ]
  },
  {
   "cell_type": "code",
   "execution_count": 9,
   "metadata": {},
   "outputs": [
    {
     "name": "stdout",
     "output_type": "stream",
     "text": [
      "['']\n",
      "['P']\n",
      "['as']\n",
      "['sen']\n",
      "['gerI']\n",
      "['d', 'Pcl']\n",
      "['ass', 'Na']\n",
      "['me', 'Sex', '']\n",
      "['Age', 'SibS']\n",
      "['p', 'Parch', 'T']\n",
      "['icket', 'Fare']\n",
      "['', 'Cabin', 'Emba']\n",
      "['rked\\n\"892', '3', '']\n",
      "['\"\"Kelly', ' Mr. ']\n",
      "['James\"\"', 'male', '3']\n",
      "['4.5', '0', '0', '330911', '']\n",
      "['7.8292', '', 'Q\"\\n\"893', '']\n",
      "['3', '\"\"Wilkes', ' Mrs. ']\n",
      "['James (Ellen Needs']\n",
      "[')\"\"', 'female', '47', '1', '0', '3']\n"
     ]
    }
   ],
   "source": [
    "with open('test.csv', 'r') as file:\n",
    "    for i in range(20):\n",
    "        print(file.read(i).strip('\\n').split(',')) #file.read(i)-читает символы, выводит посимвольно"
   ]
  },
  {
   "cell_type": "code",
   "execution_count": 17,
   "metadata": {},
   "outputs": [],
   "source": [
    "a = int(input(\"1:\"))\n",
    "b = int(input(\"2:\"))\n",
    "\n",
    "with open('out.txt', 'w', encoding='utf-8') as wfile:\n",
    "    wfile.write(f'{a**2} + {b**3} = {a**2 + b**3}\\n')\n",
    "    wfile.write(f'{a} + {b} = {a + b}')"
   ]
  },
  {
   "cell_type": "code",
   "execution_count": 19,
   "metadata": {},
   "outputs": [],
   "source": [
    "with open('b_out.txt', 'wb+') as wbfile:\n",
    "    wbfile.write(b'HELLO BOBBY!!!!')"
   ]
  },
  {
   "cell_type": "code",
   "execution_count": 24,
   "metadata": {},
   "outputs": [
    {
     "name": "stdout",
     "output_type": "stream",
     "text": [
      "[0, 1, 4, 9, 16, 25, 36, 49, 64, 81]\n",
      "[0, 1, 4, 9, 16, 25, 36, 49, 64, 81]\n"
     ]
    }
   ],
   "source": [
    "def list_squared(num:int)->list[int]:\n",
    "    new_list=[]   #инструкция + действие                  \n",
    "    for n in range(num):\n",
    "        new_list.append(n**2)\n",
    "    return new_list\n",
    "\n",
    "def gen_squared(num:int)->list[int]:    \n",
    "    for n in range(num):\n",
    "        yield n**2   #одолжил и вернет зачение когда будет нужно (разгружает ОП)\n",
    "\n",
    "print(list_squared(10))\n",
    "print(list(gen_squared(10)))"
   ]
  },
  {
   "cell_type": "code",
   "execution_count": 23,
   "metadata": {},
   "outputs": [
    {
     "name": "stdout",
     "output_type": "stream",
     "text": [
      "357 ns ± 18.4 ns per loop (mean ± std. dev. of 7 runs, 1,000,000 loops each)\n",
      "1.23 µs ± 32.4 ns per loop (mean ± std. dev. of 7 runs, 1,000,000 loops each)\n"
     ]
    }
   ],
   "source": [
    "%timeit gen_squared(10)\n",
    "%timeit list_squared(10)"
   ]
  },
  {
   "cell_type": "code",
   "execution_count": 37,
   "metadata": {},
   "outputs": [
    {
     "data": {
      "text/plain": [
       "<generator object gen_squared at 0x0000018E53505700>"
      ]
     },
     "execution_count": 37,
     "metadata": {},
     "output_type": "execute_result"
    }
   ],
   "source": [
    "gen = gen_squared(10)\n",
    "gen"
   ]
  },
  {
   "cell_type": "code",
   "execution_count": 39,
   "metadata": {},
   "outputs": [
    {
     "data": {
      "text/plain": [
       "1"
      ]
     },
     "execution_count": 39,
     "metadata": {},
     "output_type": "execute_result"
    }
   ],
   "source": [
    "next(gen) #выдает по очереди значения "
   ]
  },
  {
   "cell_type": "code",
   "execution_count": 41,
   "metadata": {},
   "outputs": [
    {
     "data": {
      "text/plain": [
       "[0, 1, 4, 9, 16, 25, 36, 49, 64, 81]"
      ]
     },
     "execution_count": 41,
     "metadata": {},
     "output_type": "execute_result"
    }
   ],
   "source": [
    "# gen comprehension \n",
    "\n",
    "gen_c = (a**2 for a in range(10))\n",
    "list(gen_c)"
   ]
  },
  {
   "cell_type": "code",
   "execution_count": 43,
   "metadata": {},
   "outputs": [
    {
     "data": {
      "text/plain": [
       "[0, 10, 20, 30]"
      ]
     },
     "execution_count": 43,
     "metadata": {},
     "output_type": "execute_result"
    }
   ],
   "source": [
    "def hate_40(num: float | int)->list[float | int]:\n",
    "    for i in range(num):\n",
    "        if i*10 != 40:\n",
    "            yield i*10 #просто не вернет 40 (return который обещает что-то вернуть но не факт)\n",
    "        else:\n",
    "            return #перестает выдавать когда наткнется на 40\n",
    "list(hate_40(6))"
   ]
  }
 ],
 "metadata": {
  "kernelspec": {
   "display_name": "Python 3",
   "language": "python",
   "name": "python3"
  },
  "language_info": {
   "codemirror_mode": {
    "name": "ipython",
    "version": 3
   },
   "file_extension": ".py",
   "mimetype": "text/x-python",
   "name": "python",
   "nbconvert_exporter": "python",
   "pygments_lexer": "ipython3",
   "version": "3.11.6"
  }
 },
 "nbformat": 4,
 "nbformat_minor": 2
}
