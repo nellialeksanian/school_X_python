{
 "cells": [
  {
   "cell_type": "code",
   "execution_count": 1,
   "metadata": {},
   "outputs": [
    {
     "name": "stdout",
     "output_type": "stream",
     "text": [
      "Collecting sympy\n",
      "  Downloading sympy-1.12-py3-none-any.whl (5.7 MB)\n",
      "     ---------------------------------------- 0.0/5.7 MB ? eta -:--:--\n",
      "     ---------------------------------------- 0.0/5.7 MB ? eta -:--:--\n",
      "      --------------------------------------- 0.1/5.7 MB 1.3 MB/s eta 0:00:05\n",
      "     - -------------------------------------- 0.2/5.7 MB 1.6 MB/s eta 0:00:04\n",
      "     - -------------------------------------- 0.3/5.7 MB 1.6 MB/s eta 0:00:04\n",
      "     -- ------------------------------------- 0.4/5.7 MB 1.8 MB/s eta 0:00:04\n",
      "     ---- ----------------------------------- 0.6/5.7 MB 2.3 MB/s eta 0:00:03\n",
      "     ------ --------------------------------- 0.9/5.7 MB 2.9 MB/s eta 0:00:02\n",
      "     --------- ------------------------------ 1.3/5.7 MB 3.7 MB/s eta 0:00:02\n",
      "     --------------- ------------------------ 2.2/5.7 MB 5.4 MB/s eta 0:00:01\n",
      "     --------------------- ------------------ 3.1/5.7 MB 6.6 MB/s eta 0:00:01\n",
      "     --------------------------- ------------ 4.0/5.7 MB 7.7 MB/s eta 0:00:01\n",
      "     --------------------------- ------------ 4.0/5.7 MB 7.7 MB/s eta 0:00:01\n",
      "     ---------------------------- ----------- 4.1/5.7 MB 6.9 MB/s eta 0:00:01\n",
      "     ------------------------------- -------- 4.5/5.7 MB 6.9 MB/s eta 0:00:01\n",
      "     -------------------------------- ------- 4.6/5.7 MB 6.5 MB/s eta 0:00:01\n",
      "     --------------------------------- ------ 4.8/5.7 MB 6.6 MB/s eta 0:00:01\n",
      "     ----------------------------------- ---- 5.1/5.7 MB 6.4 MB/s eta 0:00:01\n",
      "     ------------------------------------ --- 5.2/5.7 MB 6.2 MB/s eta 0:00:01\n",
      "     ------------------------------------- -- 5.4/5.7 MB 6.1 MB/s eta 0:00:01\n",
      "     ---------------------------------------  5.7/5.7 MB 6.0 MB/s eta 0:00:01\n",
      "     ---------------------------------------  5.7/5.7 MB 5.9 MB/s eta 0:00:01\n",
      "     ---------------------------------------- 5.7/5.7 MB 5.6 MB/s eta 0:00:00\n",
      "Collecting mpmath>=0.19 (from sympy)\n",
      "  Downloading mpmath-1.3.0-py3-none-any.whl (536 kB)\n",
      "     ---------------------------------------- 0.0/536.2 kB ? eta -:--:--\n",
      "     ------------------------------------  522.2/536.2 kB 10.9 MB/s eta 0:00:01\n",
      "     -------------------------------------  532.5/536.2 kB 6.7 MB/s eta 0:00:01\n",
      "     -------------------------------------- 536.2/536.2 kB 3.4 MB/s eta 0:00:00\n",
      "Installing collected packages: mpmath, sympy\n",
      "Successfully installed mpmath-1.3.0 sympy-1.12\n",
      "Note: you may need to restart the kernel to use updated packages.\n"
     ]
    }
   ],
   "source": [
    "%pip install sympy"
   ]
  },
  {
   "cell_type": "code",
   "execution_count": 3,
   "metadata": {},
   "outputs": [],
   "source": [
    "import sympy as sp"
   ]
  },
  {
   "cell_type": "code",
   "execution_count": 4,
   "metadata": {},
   "outputs": [],
   "source": [
    "x = sp.symbols('x')"
   ]
  },
  {
   "cell_type": "code",
   "execution_count": 5,
   "metadata": {},
   "outputs": [
    {
     "data": {
      "text/latex": [
       "$\\displaystyle \\left(x - 10\\right)^{2}$"
      ],
      "text/plain": [
       "(x - 10)**2"
      ]
     },
     "execution_count": 5,
     "metadata": {},
     "output_type": "execute_result"
    }
   ],
   "source": [
    "equation = (x-10)**2\n",
    "equation"
   ]
  },
  {
   "cell_type": "code",
   "execution_count": 52,
   "metadata": {},
   "outputs": [
    {
     "data": {
      "text/plain": [
       "sympy.core.add.Add"
      ]
     },
     "execution_count": 52,
     "metadata": {},
     "output_type": "execute_result"
    }
   ],
   "source": [
    "type(sp.diff(equation))"
   ]
  },
  {
   "cell_type": "code",
   "execution_count": 58,
   "metadata": {},
   "outputs": [],
   "source": [
    "def antigrad(x, learning_rate):\n",
    "    for i in range(6):\n",
    "        y = 2*(x-10)\n",
    "        new_x=x-learning_rate*y\n",
    "        x=new_x\n",
    "    return new_x"
   ]
  },
  {
   "cell_type": "code",
   "execution_count": 59,
   "metadata": {},
   "outputs": [
    {
     "data": {
      "text/plain": [
       "9.95904"
      ]
     },
     "execution_count": 59,
     "metadata": {},
     "output_type": "execute_result"
    }
   ],
   "source": [
    "antigrad(0,0.7)"
   ]
  }
 ],
 "metadata": {
  "kernelspec": {
   "display_name": "Python 3",
   "language": "python",
   "name": "python3"
  },
  "language_info": {
   "codemirror_mode": {
    "name": "ipython",
    "version": 3
   },
   "file_extension": ".py",
   "mimetype": "text/x-python",
   "name": "python",
   "nbconvert_exporter": "python",
   "pygments_lexer": "ipython3",
   "version": "3.11.6"
  }
 },
 "nbformat": 4,
 "nbformat_minor": 2
}
