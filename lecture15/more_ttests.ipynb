{
 "cells": [
  {
   "cell_type": "code",
   "execution_count": 5,
   "metadata": {},
   "outputs": [],
   "source": [
    "import numpy as np\n",
    "from scipy import stats as st"
   ]
  },
  {
   "cell_type": "markdown",
   "metadata": {},
   "source": [
    "## Tест 1"
   ]
  },
  {
   "cell_type": "code",
   "execution_count": 22,
   "metadata": {},
   "outputs": [],
   "source": [
    "time_before = np.array([1732, 1301, 1540, 2247, 1632, 1550, 754, 1946, 1889,\n",
    "          2748, 1349, 1648, 1665, 2416, 1470, 1681, 1868, 1629,\n",
    "          1271, 1633, 2131, 942, 1599, 1127, 2200, 661, 1207,\n",
    "          1737, 2410, 1486])\n",
    "\n",
    "time_after = np.array([955, 2577, 360, 139, 1618, 990, 644, 1796, 1487, 949, 472,\n",
    "         1906, 1758, 1258, 2554, 612, 309, 1864, 1294, 1487, 1164, 1559,\n",
    "         491, 2286, 1270, 2069, 1553, 1629, 1704, 1623])"
   ]
  },
  {
   "cell_type": "markdown",
   "metadata": {},
   "source": [
    "\n",
    "### Изменилось ли время использования личного кабинета на сайте после редизайна?\n",
    "$H_0$: Время использования личного кабинета после редизайна такое дже как время использования до редизайна  <br>\n",
    "$H_1$: Время использования личного кабинета после редизайна отличается от времени использования до редизайна "
   ]
  },
  {
   "cell_type": "code",
   "execution_count": 24,
   "metadata": {},
   "outputs": [
    {
     "name": "stdout",
     "output_type": "stream",
     "text": [
      "p-value: 0.0751397944405015\n",
      "Нет оснований отвергнуть нулевую гипотезу\n"
     ]
    }
   ],
   "source": [
    "alpha = 0.05\n",
    "\n",
    "results = st.ttest_rel(\n",
    "    time_before,\n",
    "    time_after,\n",
    "    alternative='two-sided'\n",
    ")\n",
    "\n",
    "print(f'p-value: {results.pvalue}')\n",
    "\n",
    "if results.pvalue < alpha:\n",
    "    print('Отвергаем нулевую гипотезу')\n",
    "else:\n",
    "    print('Нет оснований отвергнуть нулевую гипотезу')"
   ]
  },
  {
   "cell_type": "code",
   "execution_count": 25,
   "metadata": {},
   "outputs": [
    {
     "name": "stdout",
     "output_type": "stream",
     "text": [
      "1648.9666666666667\n",
      "1345.9\n"
     ]
    }
   ],
   "source": [
    "print(f'{time_before.mean()}\\n{time_after.mean()}')"
   ]
  },
  {
   "cell_type": "markdown",
   "metadata": {},
   "source": [
    "## Tест 2"
   ]
  },
  {
   "cell_type": "code",
   "execution_count": 26,
   "metadata": {},
   "outputs": [],
   "source": [
    "bullets_before = np.array([821, 1164, 598, 854, 455, 1220, 161, 1400, 479, 215,\n",
    "          564, 159, 920, 173, 276, 444, 273, 711, 291, 880,\n",
    "          892, 712, 16, 476, 498, 9, 1251, 938, 389, 513])\n",
    "\n",
    "bullets_after = np.array([904, 220, 676, 459, 299, 659, 1698, 1120, 514, 1086, 1499,\n",
    "         1262, 829, 476, 1149, 996, 1247, 1117, 1324, 532, 1458, 898,\n",
    "         1837, 455, 1667, 898, 474, 558, 639, 1012])"
   ]
  },
  {
   "cell_type": "markdown",
   "metadata": {},
   "source": [
    "\n",
    "### Изменилось ли количество используемых патронов после нововведений?\n",
    "$H_0$: Количество используемых патронов после нововведений такая же как количество используемых патронов до нововведений <br>\n",
    "$H_1$: Количество используемых патронов после нововведений отличаестя от количества используемых патронов до нововведений"
   ]
  },
  {
   "cell_type": "code",
   "execution_count": 27,
   "metadata": {},
   "outputs": [
    {
     "name": "stdout",
     "output_type": "stream",
     "text": [
      "p-value: 0.010789503820811123\n",
      "Отвергаем нулевую гипотезу\n"
     ]
    }
   ],
   "source": [
    "alpha = 0.05\n",
    "\n",
    "results = st.ttest_rel(\n",
    "    bullets_before,\n",
    "    bullets_after,\n",
    "    alternative='two-sided'\n",
    ")\n",
    "\n",
    "print(f'p-value: {results.pvalue}')\n",
    "\n",
    "if results.pvalue < alpha:\n",
    "    print('Отвергаем нулевую гипотезу')\n",
    "else:\n",
    "    print('Нет оснований отвергнуть нулевую гипотезу')"
   ]
  },
  {
   "cell_type": "code",
   "execution_count": 28,
   "metadata": {},
   "outputs": [
    {
     "name": "stdout",
     "output_type": "stream",
     "text": [
      "591.7333333333333\n",
      "932.0666666666667\n"
     ]
    }
   ],
   "source": [
    "print(f'{bullets_before.mean()}\\n{bullets_after.mean()}')"
   ]
  }
 ],
 "metadata": {
  "kernelspec": {
   "display_name": "Python 3",
   "language": "python",
   "name": "python3"
  },
  "language_info": {
   "codemirror_mode": {
    "name": "ipython",
    "version": 3
   },
   "file_extension": ".py",
   "mimetype": "text/x-python",
   "name": "python",
   "nbconvert_exporter": "python",
   "pygments_lexer": "ipython3",
   "version": "3.11.6"
  }
 },
 "nbformat": 4,
 "nbformat_minor": 2
}
