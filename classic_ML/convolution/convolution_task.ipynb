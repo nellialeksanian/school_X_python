{
 "cells": [
  {
   "cell_type": "code",
   "execution_count": 1,
   "metadata": {},
   "outputs": [],
   "source": [
    "import torch"
   ]
  },
  {
   "cell_type": "code",
   "execution_count": 6,
   "metadata": {},
   "outputs": [],
   "source": [
    "from torch.utils.data import Dataset\n",
    "import pathlib\n",
    "import torchvision\n",
    "import torchvision.transforms as transforms\n",
    "from torchvision.io import read_image"
   ]
  },
  {
   "cell_type": "code",
   "execution_count": 7,
   "metadata": {},
   "outputs": [],
   "source": [
    "class LatinDataset(Dataset):\n",
    "    def __init__(self, path_dataset: pathlib.Path): #pathllib.path типа данных\n",
    "        self.path_dataset = path_dataset\n",
    "        self.data_list = [x for x in self.path_dataset.glob('**/*') if x.is_file()] # список всех файлов\n",
    "        self.data_class = set(x.parent for x in self.data_list) #список папок (путей к папкам), папка-это класс \n",
    "        self.transform_func = transforms.Compose([\n",
    "            transforms.ToPILImage(),\n",
    "            transforms.Grayscale(),\n",
    "            transforms.Resize((124,124)),\n",
    "            transforms.PILToTensor()\n",
    "        ])\n",
    "\n",
    "    def __len__(self): #количесто файлов\n",
    "        return len(self.data_list) #количество файлов\n",
    "    \n",
    "    def __getitem__(self, index):\n",
    "        img_path = self.data_list[index]\n",
    "        img_label = torch.zeros(len(self.data_class)) #вектор 0, по длине списка классов\n",
    "        img_label[self.data_class.index(img_path.parent)] = 1.0 #на месте класса к котрому принадлежит картинка будет 1\n",
    "        img_tensor = read_image(img_path) \n",
    "        return self.transform_func(img_tensor), img_label"
   ]
  }
 ],
 "metadata": {
  "kernelspec": {
   "display_name": "Python 3",
   "language": "python",
   "name": "python3"
  },
  "language_info": {
   "codemirror_mode": {
    "name": "ipython",
    "version": 3
   },
   "file_extension": ".py",
   "mimetype": "text/x-python",
   "name": "python",
   "nbconvert_exporter": "python",
   "pygments_lexer": "ipython3",
   "version": "3.11.6"
  }
 },
 "nbformat": 4,
 "nbformat_minor": 2
}
