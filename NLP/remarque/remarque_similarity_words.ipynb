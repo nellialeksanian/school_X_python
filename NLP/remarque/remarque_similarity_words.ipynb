{
 "cells": [
  {
   "cell_type": "code",
   "execution_count": 58,
   "metadata": {},
   "outputs": [],
   "source": [
    "import gensim.downloader"
   ]
  },
  {
   "cell_type": "code",
   "execution_count": 356,
   "metadata": {},
   "outputs": [],
   "source": [
    "import nltk\n",
    "import spacy\n",
    "from nltk.corpus import stopwords\n",
    "from collections import Counter\n",
    "from sklearn.metrics.pairwise import cosine_similarity"
   ]
  },
  {
   "cell_type": "code",
   "execution_count": 297,
   "metadata": {},
   "outputs": [],
   "source": [
    "import numpy as np"
   ]
  },
  {
   "cell_type": "code",
   "execution_count": 60,
   "metadata": {},
   "outputs": [],
   "source": [
    "model = gensim.downloader.load('word2vec-ruscorpora-300')"
   ]
  },
  {
   "cell_type": "code",
   "execution_count": 61,
   "metadata": {},
   "outputs": [],
   "source": [
    "with open ('na_zap_fronte.txt', 'r', encoding='windows-1251') as book1:\n",
    "    zap_front = book1.read()"
   ]
  },
  {
   "cell_type": "code",
   "execution_count": 86,
   "metadata": {},
   "outputs": [],
   "source": [
    "nlp = spacy.load('ru_core_news_sm')\n",
    "zap_front_tok = nlp(zap_front)"
   ]
  },
  {
   "cell_type": "code",
   "execution_count": 345,
   "metadata": {},
   "outputs": [],
   "source": [
    "custom_stop_word = ['это', 'нам', 'x', 'нас', 'ещё', \"наш\", \"который\", 'всё',\"свой\", 'весь']\n",
    "stop_words = set(stopwords.words('russian'))\n",
    "stop_words.update(custom_stop_word)\n",
    "\n",
    "def filtered_book(book_tok):\n",
    "    \n",
    "    words = [token.lemma_ for token in book_tok if token.is_alpha and not token.is_stop]\n",
    "    filtered_lemmas = [token for token in words if token not in stop_words]\n",
    "    \n",
    "    return filtered_lemmas\n",
    "\n",
    "def common_words(filtered_list):\n",
    "\n",
    "    common_words = Counter(filtered_list)\n",
    "    common_list = common_words.most_common(100)\n",
    "    common_list = [item[0] for item in common_list]\n",
    "    common_list_text = ' '.join(common_list)\n",
    "    common_tokens = nlp(common_list_text)\n",
    "    word_tag_list =[]\n",
    "    for word in common_tokens:\n",
    "        word_tag = f\"{word}_{word.pos_}\"\n",
    "        word_tag_list.append(word_tag)\n",
    "    return word_tag_list"
   ]
  },
  {
   "cell_type": "code",
   "execution_count": 346,
   "metadata": {},
   "outputs": [],
   "source": [
    "zap_front_filtered = filtered_book(zap_front_tok)"
   ]
  },
  {
   "cell_type": "code",
   "execution_count": 347,
   "metadata": {},
   "outputs": [],
   "source": [
    "zap_common_words = common_words(zap_front_filtered)"
   ]
  },
  {
   "cell_type": "code",
   "execution_count": 348,
   "metadata": {},
   "outputs": [],
   "source": [
    "vec =[]\n",
    "for word in zap_common_words:\n",
    "    try:\n",
    "        vec.append(model.get_vector(word))\n",
    "    except KeyError as e:\n",
    "        zap_common_words.remove(word)"
   ]
  },
  {
   "cell_type": "code",
   "execution_count": 354,
   "metadata": {},
   "outputs": [],
   "source": [
    "similar_pairs = []\n",
    "for i in range(len(vec)):\n",
    "    vector1 = vec[i]\n",
    "    for j in range(i+1, len(vec)):\n",
    "        vector2 = vec[j]\n",
    "        cos_similarity = cosine_similarity(vector1.reshape(1, -1), vector2.reshape(1, -1))\n",
    "        norm_a = np.linalg.norm(vector1)\n",
    "        norm_b = np.linalg.norm(vector2)\n",
    "        if cos_similarity > 0.8 and norm_a-norm_b < 0.1: \n",
    "            similar_pairs.append((model.most_similar(positive=[vector1], topn=1)[0][0], model.most_similar(positive=[vector2], topn=1)[0][0]))"
   ]
  },
  {
   "cell_type": "code",
   "execution_count": 355,
   "metadata": {},
   "outputs": [
    {
     "data": {
      "text/plain": [
       "[('утро_NOUN', 'вечер_NOUN')]"
      ]
     },
     "execution_count": 355,
     "metadata": {},
     "output_type": "execute_result"
    }
   ],
   "source": [
    "similar_pairs"
   ]
  },
  {
   "cell_type": "markdown",
   "metadata": {},
   "source": [
    "С помощью косинусного сходства можно определить сонаправлнность векторов (если кс=1->угол между векторами=0, вектора параллельны, если кс=0->укол между векторами=90, вектора перпендикулярны), а с помощью разности норм-сравнить по длине. <br> \n",
    "Пара слов среди топ 100 слов в книге На западном фронте без перемен, где косинусное сходство ближе всего к 1, а разность норм векторов минимальная - это пара \"утро-ночь\""
   ]
  },
  {
   "cell_type": "markdown",
   "metadata": {},
   "source": [
    "Если изменить порог для косинусного сходства > 0.7, то появляются следующие пары слов"
   ]
  },
  {
   "cell_type": "code",
   "execution_count": 353,
   "metadata": {},
   "outputs": [
    {
     "data": {
      "text/plain": [
       "[('говорить_VERB', 'сказать_VERB'),\n",
       " ('идти_VERB', 'пойти_VERB'),\n",
       " ('делать_VERB', 'сделать_VERB'),\n",
       " ('час_NOUN', 'утро_NOUN'),\n",
       " ('ночь_NOUN', 'вечер_NOUN'),\n",
       " ('утро_NOUN', 'вечер_NOUN')]"
      ]
     },
     "execution_count": 353,
     "metadata": {},
     "output_type": "execute_result"
    }
   ],
   "source": [
    "similar_pairs"
   ]
  },
  {
   "cell_type": "markdown",
   "metadata": {},
   "source": [
    "Здесь вектора слов уже \"менее сонаправлены\", однако по длине схожи "
   ]
  }
 ],
 "metadata": {
  "kernelspec": {
   "display_name": "Python 3 (ipykernel)",
   "language": "python",
   "name": "python3"
  },
  "language_info": {
   "codemirror_mode": {
    "name": "ipython",
    "version": 3
   },
   "file_extension": ".py",
   "mimetype": "text/x-python",
   "name": "python",
   "nbconvert_exporter": "python",
   "pygments_lexer": "ipython3",
   "version": "3.10.12"
  }
 },
 "nbformat": 4,
 "nbformat_minor": 4
}
