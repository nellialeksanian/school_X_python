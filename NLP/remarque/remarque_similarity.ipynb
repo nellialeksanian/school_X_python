{
 "cells": [
  {
   "cell_type": "code",
   "execution_count": 10,
   "metadata": {},
   "outputs": [],
   "source": [
    "import nltk\n",
    "import pymorphy3\n",
    "from nltk.corpus import stopwords"
   ]
  },
  {
   "cell_type": "code",
   "execution_count": 42,
   "metadata": {},
   "outputs": [],
   "source": [
    "with open ('na_zap_fronte.txt', 'r', encoding='windows-1251') as book1:\n",
    "    zap_front = book1.read()\n",
    "with open ('noch_v_lissabone.txt', 'r', encoding='windows-1251') as book2:\n",
    "    lissabon = book2.read()\n",
    "with open ('three_comrades.txt', 'r', encoding='windows-1251') as book3:\n",
    "    three_comrades = book3.read()\n",
    "with open ('triumfalnaya_arka.txt', 'r', encoding='windows-1251') as book4:\n",
    "    triumf = book4.read()\n",
    "with open ('vremya_zhit.txt', 'r', encoding='windows-1251') as book5:\n",
    "    vremya = book5.read()\n",
    "with open ('vzaimy.txt', 'r', encoding='windows-1251') as book6:\n",
    "    vzaimy = book6.read()"
   ]
  },
  {
   "cell_type": "code",
   "execution_count": 8,
   "metadata": {},
   "outputs": [],
   "source": [
    "wordtok = nltk.tokenize.RegexpTokenizer('\\w+')\n",
    "zap_front_tok = wordtok.tokenize(zap_front)\n",
    "lissabon_tok = wordtok.tokenize(lissabon)\n",
    "three_comrades_tok = wordtok.tokenize(three_comrades)\n",
    "triumf_tok = wordtok.tokenize(triumf)\n",
    "vremya_tok = wordtok.tokenize(vremya)\n",
    "vzaimy_tok = wordtok.tokenize(vzaimy)"
   ]
  },
  {
   "cell_type": "code",
   "execution_count": 17,
   "metadata": {},
   "outputs": [
    {
     "data": {
      "text/plain": [
       "126393"
      ]
     },
     "execution_count": 17,
     "metadata": {},
     "output_type": "execute_result"
    }
   ],
   "source": [
    "len(triumf_tok)"
   ]
  },
  {
   "cell_type": "code",
   "execution_count": 43,
   "metadata": {},
   "outputs": [],
   "source": [
    "custom_stop_word = ['это', 'нам', 'x', 'нас', 'ещё', \"наш\", \"который\", 'всё',\"свой\", 'весь']\n",
    "stop_words = set(stopwords.words('russian'))\n",
    "stop_words.update(custom_stop_word)\n",
    "\n",
    "def filtered_book(book_tok):\n",
    "\n",
    "    book_tok = [token.lower() for token in book_tok]\n",
    "    morph = pymorphy3.MorphAnalyzer()\n",
    "    filtered_tokens = [token.strip() for token in book_tok if token not in stop_words]\n",
    "    lemmatized_tokens = [morph.parse(word)[0].normal_form for word in filtered_tokens]\n",
    "\n",
    "    return lemmatized_tokens"
   ]
  },
  {
   "cell_type": "code",
   "execution_count": 38,
   "metadata": {},
   "outputs": [],
   "source": [
    "zap_front_filtered = filtered_book(zap_front_tok)\n",
    "lissabon_filtered = filtered_book(lissabon_tok)\n",
    "three_comrades_filtered = filtered_book(three_comrades_tok)\n",
    "triumf_filtered = filtered_book(triumf_tok)\n",
    "vremya_filtered = filtered_book(vremya_tok)\n",
    "vzaimy_filtered = filtered_book(vzaimy_tok)"
   ]
  },
  {
   "cell_type": "code",
   "execution_count": 39,
   "metadata": {},
   "outputs": [],
   "source": [
    "book_names = [\"На западном фронте без перемен\",\"Три товарища\",\"Триумфальная арка\",\"Время жить и время умирать\",\"Жизнь взаймы\",\"Ночь в Лиссабоне\"]\n",
    "book_toks = [zap_front_tok, three_comrades_tok, triumf_tok, vremya_tok, vzaimy_tok, lissabon_tok]\n",
    "book_filtered = [zap_front_filtered, three_comrades_filtered, triumf_filtered, vremya_filtered, vzaimy_filtered, lissabon_filtered]"
   ]
  },
  {
   "cell_type": "code",
   "execution_count": 30,
   "metadata": {},
   "outputs": [
    {
     "name": "stdout",
     "output_type": "stream",
     "text": [
      "На западном фронте без перемен\n",
      "длина книги: 58654\n",
      "длина без стоп слов: 32976\n",
      "43.78%\n",
      "Три товарища\n",
      "длина книги: 114521\n",
      "длина без стоп слов: 66179\n",
      "42.21%\n",
      "Триумфальная арка\n",
      "длина книги: 126393\n",
      "длина без стоп слов: 74142\n",
      "41.34%\n",
      "Время жить и время умирать\n",
      "длина книги: 92260\n",
      "длина без стоп слов: 53292\n",
      "42.24%\n",
      "Жизнь взаймы\n",
      "длина книги: 57762\n",
      "длина без стоп слов: 33529\n",
      "41.95%\n",
      "Ночь в Лиссабоне\n",
      "длина книги: 65239\n",
      "длина без стоп слов: 35430\n",
      "45.69%\n"
     ]
    }
   ],
   "source": [
    "\n",
    "for i in range(len(book_names)):\n",
    "    print(f'{book_names[i]}\\nдлина книги: {len(book_toks[i])}\\nдлина без стоп слов: {len(book_filtered[i])}')\n",
    "    print(f'{round((1-len(book_filtered[i])/len(book_toks[i]))*100, 2)}%')\n"
   ]
  },
  {
   "cell_type": "code",
   "execution_count": null,
   "metadata": {},
   "outputs": [],
   "source": []
  }
 ],
 "metadata": {
  "kernelspec": {
   "display_name": "Python 3",
   "language": "python",
   "name": "python3"
  },
  "language_info": {
   "codemirror_mode": {
    "name": "ipython",
    "version": 3
   },
   "file_extension": ".py",
   "mimetype": "text/x-python",
   "name": "python",
   "nbconvert_exporter": "python",
   "pygments_lexer": "ipython3",
   "version": "3.11.6"
  }
 },
 "nbformat": 4,
 "nbformat_minor": 2
}
