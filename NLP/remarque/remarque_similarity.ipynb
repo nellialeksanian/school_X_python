{
 "cells": [
  {
   "cell_type": "code",
   "execution_count": 3,
   "metadata": {},
   "outputs": [],
   "source": [
    "import nltk\n",
    "import pymorphy3\n",
    "from nltk.corpus import stopwords\n",
    "from collections import Counter\n",
    "from sklearn.feature_extraction.text import TfidfVectorizer\n",
    "from sklearn.metrics.pairwise import cosine_similarity"
   ]
  },
  {
   "cell_type": "code",
   "execution_count": 4,
   "metadata": {},
   "outputs": [],
   "source": [
    "with open ('na_zap_fronte.txt', 'r', encoding='windows-1251') as book1:\n",
    "    zap_front = book1.read()\n",
    "with open ('noch_v_lissabone.txt', 'r', encoding='windows-1251') as book2:\n",
    "    lissabon = book2.read()\n",
    "with open ('three_comrades.txt', 'r', encoding='windows-1251') as book3:\n",
    "    three_comrades = book3.read()\n",
    "with open ('triumfalnaya_arka.txt', 'r', encoding='windows-1251') as book4:\n",
    "    triumf = book4.read()\n",
    "with open ('vremya_zhit.txt', 'r', encoding='windows-1251') as book5:\n",
    "    vremya = book5.read()\n",
    "with open ('vzaimy.txt', 'r', encoding='windows-1251') as book6:\n",
    "    vzaimy = book6.read()"
   ]
  },
  {
   "cell_type": "code",
   "execution_count": 5,
   "metadata": {},
   "outputs": [],
   "source": [
    "wordtok = nltk.tokenize.RegexpTokenizer('\\w+')\n",
    "zap_front_tok = wordtok.tokenize(zap_front)\n",
    "lissabon_tok = wordtok.tokenize(lissabon)\n",
    "three_comrades_tok = wordtok.tokenize(three_comrades)\n",
    "triumf_tok = wordtok.tokenize(triumf)\n",
    "vremya_tok = wordtok.tokenize(vremya)\n",
    "vzaimy_tok = wordtok.tokenize(vzaimy)"
   ]
  },
  {
   "cell_type": "code",
   "execution_count": 6,
   "metadata": {},
   "outputs": [],
   "source": [
    "stop_words = set(stopwords.words('russian'))\n",
    "custom_stop_word = ['это', 'нам', 'x', 'нас', 'ещё', \"наш\", \"который\", 'всё',\"свой\", 'весь']\n",
    "stop_words.update(custom_stop_word)\n",
    "\n",
    "def filtered_book(book_tok):\n",
    "\n",
    "    book_tok = [token.lower() for token in book_tok]\n",
    "    morph = pymorphy3.MorphAnalyzer()\n",
    "    filtered_tokens = [token.strip() for token in book_tok if token not in stop_words]\n",
    "    lemmatized_tokens = [morph.parse(word)[0].normal_form for word in filtered_tokens]\n",
    "    filtered_lemmas = [token.strip() for token in lemmatized_tokens if token not in stop_words]\n",
    "\n",
    "    return filtered_lemmas"
   ]
  },
  {
   "cell_type": "code",
   "execution_count": 7,
   "metadata": {},
   "outputs": [],
   "source": [
    "zap_front_filtered = filtered_book(zap_front_tok)\n",
    "lissabon_filtered = filtered_book(lissabon_tok)\n",
    "three_comrades_filtered = filtered_book(three_comrades_tok)\n",
    "triumf_filtered = filtered_book(triumf_tok)\n",
    "vremya_filtered = filtered_book(vremya_tok)\n",
    "vzaimy_filtered = filtered_book(vzaimy_tok)"
   ]
  },
  {
   "cell_type": "code",
   "execution_count": 10,
   "metadata": {},
   "outputs": [],
   "source": [
    "book_names = [\"На западном фронте без перемен\",\"Три товарища\",\"Триумфальная арка\",\"Время жить и время умирать\",\"Жизнь взаймы\",\"Ночь в Лиссабоне\"]\n",
    "book_toks = [zap_front_tok, three_comrades_tok, triumf_tok, vremya_tok, vzaimy_tok, lissabon_tok]\n",
    "book_filtered = [zap_front_filtered, three_comrades_filtered, triumf_filtered, vremya_filtered, vzaimy_filtered, lissabon_filtered]"
   ]
  },
  {
   "cell_type": "code",
   "execution_count": 11,
   "metadata": {},
   "outputs": [
    {
     "name": "stdout",
     "output_type": "stream",
     "text": [
      "На западном фронте без перемен\n",
      "длина книги: 58646\n",
      "длина без стоп слов: 30873\n",
      "47.36%\n",
      "Три товарища\n",
      "длина книги: 114521\n",
      "длина без стоп слов: 63364\n",
      "44.67%\n",
      "Триумфальная арка\n",
      "длина книги: 126393\n",
      "длина без стоп слов: 70883\n",
      "43.92%\n",
      "Время жить и время умирать\n",
      "длина книги: 92260\n",
      "длина без стоп слов: 51003\n",
      "44.72%\n",
      "Жизнь взаймы\n",
      "длина книги: 57762\n",
      "длина без стоп слов: 31830\n",
      "44.89%\n",
      "Ночь в Лиссабоне\n",
      "длина книги: 65239\n",
      "длина без стоп слов: 33534\n",
      "48.6%\n"
     ]
    }
   ],
   "source": [
    "for i in range(len(book_names)):\n",
    "    print(f'{book_names[i]}\\nдлина книги: {len(book_toks[i])}\\nдлина без стоп слов: {len(book_filtered[i])}')\n",
    "    print(f'{round((1-len(book_filtered[i])/len(book_toks[i]))*100, 2)}%')"
   ]
  },
  {
   "cell_type": "code",
   "execution_count": 12,
   "metadata": {},
   "outputs": [],
   "source": [
    "def cos_sim(filtered_lemmas):\n",
    "    filtered_texts = [\" \".join(tokens) for tokens in filtered_lemmas]\n",
    "    vectorizer = TfidfVectorizer()\n",
    "    tfidf_matrix = vectorizer.fit_transform(filtered_texts)\n",
    "    cosine_similarities = cosine_similarity(tfidf_matrix)\n",
    "    for i in range(len(filtered_texts)):\n",
    "        for j in range(len(filtered_texts)):\n",
    "            if j != i:\n",
    "                print(f\"Косинусное сходство текста {i + 1} с текстом {j + 1}: {cosine_similarities[i][j]}\")\n",
    "        print('________')"
   ]
  },
  {
   "cell_type": "code",
   "execution_count": 13,
   "metadata": {},
   "outputs": [
    {
     "name": "stdout",
     "output_type": "stream",
     "text": [
      "Косинусное сходство текста 1 с текстом 2: 0.38570341833913213\n",
      "Косинусное сходство текста 1 с текстом 3: 0.2483861578103579\n",
      "Косинусное сходство текста 1 с текстом 4: 0.2917860227536995\n",
      "Косинусное сходство текста 1 с текстом 5: 0.20147418643477438\n",
      "Косинусное сходство текста 1 с текстом 6: 0.44884080330344445\n",
      "________\n",
      "Косинусное сходство текста 2 с текстом 1: 0.38570341833913213\n",
      "Косинусное сходство текста 2 с текстом 3: 0.31037600889169714\n",
      "Косинусное сходство текста 2 с текстом 4: 0.3221160641030286\n",
      "Косинусное сходство текста 2 с текстом 5: 0.25861781056434846\n",
      "Косинусное сходство текста 2 с текстом 6: 0.5687346842195227\n",
      "________\n",
      "Косинусное сходство текста 3 с текстом 1: 0.2483861578103579\n",
      "Косинусное сходство текста 3 с текстом 2: 0.31037600889169714\n",
      "Косинусное сходство текста 3 с текстом 4: 0.18896447374160077\n",
      "Косинусное сходство текста 3 с текстом 5: 0.15162804733162635\n",
      "Косинусное сходство текста 3 с текстом 6: 0.3355796436818262\n",
      "________\n",
      "Косинусное сходство текста 4 с текстом 1: 0.2917860227536995\n",
      "Косинусное сходство текста 4 с текстом 2: 0.3221160641030286\n",
      "Косинусное сходство текста 4 с текстом 3: 0.18896447374160077\n",
      "Косинусное сходство текста 4 с текстом 5: 0.15225111060516958\n",
      "Косинусное сходство текста 4 с текстом 6: 0.34879767501403247\n",
      "________\n",
      "Косинусное сходство текста 5 с текстом 1: 0.20147418643477438\n",
      "Косинусное сходство текста 5 с текстом 2: 0.25861781056434846\n",
      "Косинусное сходство текста 5 с текстом 3: 0.15162804733162635\n",
      "Косинусное сходство текста 5 с текстом 4: 0.15225111060516958\n",
      "Косинусное сходство текста 5 с текстом 6: 0.2765370184751568\n",
      "________\n",
      "Косинусное сходство текста 6 с текстом 1: 0.44884080330344445\n",
      "Косинусное сходство текста 6 с текстом 2: 0.5687346842195227\n",
      "Косинусное сходство текста 6 с текстом 3: 0.3355796436818262\n",
      "Косинусное сходство текста 6 с текстом 4: 0.34879767501403247\n",
      "Косинусное сходство текста 6 с текстом 5: 0.2765370184751568\n",
      "________\n"
     ]
    }
   ],
   "source": [
    "cos_sim(book_filtered)"
   ]
  }
 ],
 "metadata": {
  "kernelspec": {
   "display_name": "Python 3 (ipykernel)",
   "language": "python",
   "name": "python3"
  },
  "language_info": {
   "codemirror_mode": {
    "name": "ipython",
    "version": 3
   },
   "file_extension": ".py",
   "mimetype": "text/x-python",
   "name": "python",
   "nbconvert_exporter": "python",
   "pygments_lexer": "ipython3",
   "version": "3.10.12"
  }
 },
 "nbformat": 4,
 "nbformat_minor": 4
}
