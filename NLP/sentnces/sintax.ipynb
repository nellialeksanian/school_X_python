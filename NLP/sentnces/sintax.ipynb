{
 "cells": [
  {
   "cell_type": "code",
   "execution_count": 38,
   "metadata": {},
   "outputs": [],
   "source": [
    "import nltk\n",
    "import spacy \n"
   ]
  },
  {
   "cell_type": "code",
   "execution_count": 25,
   "metadata": {},
   "outputs": [],
   "source": [
    "sentence = [(\"a\",\"DT\"), (\"clever\",\"JJ\"), (\"fox\", \"NN\"), (\"was\", \"VBP\"),(\"jumping\", \"VBP\"),(\"over\", \"IN\"),(\"the\",\"DT\"),(\"wall\",\"NN\")]\n",
    "grammar = \"NP:{<DT>?<JJ>*<NN>}\"\n",
    "Reg_parser = nltk.RegexpParser(grammar)\n",
    "Output = Reg_parser.parse(sentence)\n",
    "Output.draw()\n",
    "\n"
   ]
  },
  {
   "cell_type": "code",
   "execution_count": 37,
   "metadata": {},
   "outputs": [
    {
     "data": {
      "text/plain": [
       "[('There', 'EX'),\n",
       " ('is', 'VBZ'),\n",
       " ('floating', 'VBG'),\n",
       " ('a', 'DT'),\n",
       " ('brick', 'NN'),\n",
       " ('from', 'IN'),\n",
       " ('the', 'DT'),\n",
       " ('town', 'NN'),\n",
       " ('of', 'IN'),\n",
       " ('Byron', 'NNP')]"
      ]
     },
     "execution_count": 37,
     "metadata": {},
     "output_type": "execute_result"
    }
   ],
   "source": [
    "sentence2 = \"There is floating a brick from the town of Byron\"\n",
    "tokenized = nltk.word_tokenize(sentence2)\n",
    "tagged = nltk.pos_tag(tokenized)\n",
    "grammar2 = \"NP:{<EX>*<VBZ>*<DT>*<VBG>*<NN>}\"\n",
    "Reg_parser = nltk.RegexpParser(grammar2)\n",
    "Output = Reg_parser.parse(tagged)\n",
    "tagged\n",
    "# Output.draw()"
   ]
  }
 ],
 "metadata": {
  "kernelspec": {
   "display_name": "Python 3",
   "language": "python",
   "name": "python3"
  },
  "language_info": {
   "codemirror_mode": {
    "name": "ipython",
    "version": 3
   },
   "file_extension": ".py",
   "mimetype": "text/x-python",
   "name": "python",
   "nbconvert_exporter": "python",
   "pygments_lexer": "ipython3",
   "version": "3.11.6"
  }
 },
 "nbformat": 4,
 "nbformat_minor": 2
}
