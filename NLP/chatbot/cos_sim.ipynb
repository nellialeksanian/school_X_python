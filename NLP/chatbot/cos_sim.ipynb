{
 "cells": [
  {
   "cell_type": "code",
   "execution_count": 1,
   "metadata": {},
   "outputs": [],
   "source": [
    "import pandas as pd\n",
    "import spacy \n",
    "import datasets \n",
    "from datasets import load_dataset"
   ]
  },
  {
   "cell_type": "code",
   "execution_count": 3,
   "metadata": {},
   "outputs": [],
   "source": [
    "dataset = load_dataset(\"Amod/mental_health_counseling_conversations\")"
   ]
  },
  {
   "cell_type": "code",
   "execution_count": 4,
   "metadata": {},
   "outputs": [
    {
     "data": {
      "text/plain": [
       "DatasetDict({\n",
       "    train: Dataset({\n",
       "        features: ['Context', 'Response'],\n",
       "        num_rows: 3512\n",
       "    })\n",
       "})"
      ]
     },
     "execution_count": 4,
     "metadata": {},
     "output_type": "execute_result"
    }
   ],
   "source": [
    "dataset"
   ]
  },
  {
   "cell_type": "code",
   "execution_count": 5,
   "metadata": {},
   "outputs": [],
   "source": [
    "data = pd.DataFrame(dataset['train'])"
   ]
  },
  {
   "cell_type": "code",
   "execution_count": 6,
   "metadata": {},
   "outputs": [],
   "source": [
    "cols = ['Context','Response']\n",
    "data = data[cols]"
   ]
  },
  {
   "cell_type": "code",
   "execution_count": 7,
   "metadata": {},
   "outputs": [],
   "source": [
    "data_dict = data.to_dict(orient='records')"
   ]
  },
  {
   "cell_type": "code",
   "execution_count": 8,
   "metadata": {},
   "outputs": [],
   "source": [
    "nlp = spacy.load(\"en_core_web_md\")"
   ]
  },
  {
   "cell_type": "code",
   "execution_count": 9,
   "metadata": {},
   "outputs": [],
   "source": [
    "vectors = []\n",
    "for item in data_dict:\n",
    "    doc = nlp(item[\"Context\"])\n",
    "    vectors.append((doc, item[\"Response\"]))"
   ]
  },
  {
   "cell_type": "code",
   "execution_count": 10,
   "metadata": {},
   "outputs": [],
   "source": [
    "def get_most_similar_answer(user_input):\n",
    "    user_doc = nlp(user_input)\n",
    "    similarities = [(user_doc.similarity(question), answer) for question, answer in vectors]\n",
    "    most_similar_answer = max(similarities, key=lambda x: x[0])\n",
    "    return most_similar_answer[1]"
   ]
  },
  {
   "cell_type": "code",
   "execution_count": 13,
   "metadata": {},
   "outputs": [
    {
     "name": "stdin",
     "output_type": "stream",
     "text": [
      "You:  hi! i had a huge fight with a friend and i feel terrible!\n"
     ]
    },
    {
     "name": "stdout",
     "output_type": "stream",
     "text": [
      "Bot: The best way to work on a relationship is for both people to engage with the problem and start communicating with each other more effectively.  One of the hardest things about this, however, is getting both people within the relationship to recognize that they are both responsible for the successes and failures within the relationship and remove all the all-or-nothing blame. The best style of communication is open and asking for clarification; why not try asking your mother why this particular fight/situation is eliciting such an angry response.  Often, the simple act of expressing that we don't understand the other person's point of view can open the doors to better levels of communication. The hardest part is trying to remain humble as we seek out that clarification and avoid the blaming language we are so used to using in such times.\n"
     ]
    },
    {
     "name": "stdin",
     "output_type": "stream",
     "text": [
      "You:  thank you for advice\n"
     ]
    },
    {
     "name": "stdout",
     "output_type": "stream",
     "text": [
      "Bot: Finding the right therapist for you is very important and can sometimes be tricky. It can sometimes take a number of sessions to get a good sense of whether you and your therapist are the \"right fit.\"  The first couple of sessions are generally spent on gathering information, formulating a plan of treatment, and building the client/therapist relationship. The client/therapist relationship will be very different from other relationships you have experienced.  You will know you have found the right therapist when you notice there is a good rapport between the two of you.  You will get a sense that the therapist \"gets you\" and understands the issues being presented. If you feel that you can trust your therapist and feel comfortable opening up and providing feedback during your sessions then you know it is a good fit. In terms of \"how to train your therapist how to give you what you need from treatment\" the therapeutic relationship is collaborative so the two of you will be working together as a team. During your sessions, the goal is for you to feel comfortable giving feedback about what is working and what is not working in your sessions. When you express your needs to your therapist then the two of you will discuss the best ways to get those needs met in order to maximize the effectiveness of your sessions.\n"
     ]
    },
    {
     "name": "stdin",
     "output_type": "stream",
     "text": [
      "You:  exit\n"
     ]
    },
    {
     "name": "stdout",
     "output_type": "stream",
     "text": [
      "Exiting the bot\n"
     ]
    }
   ],
   "source": [
    "while True:\n",
    "    user_input = input(\"You: \")\n",
    "    if user_input.lower() == 'exit':\n",
    "        print(\"Exiting the bot\")\n",
    "        break\n",
    "    else: print(\"Bot:\", get_most_similar_answer(user_input))"
   ]
  }
 ],
 "metadata": {
  "kernelspec": {
   "display_name": "Python 3 (ipykernel)",
   "language": "python",
   "name": "python3"
  },
  "language_info": {
   "codemirror_mode": {
    "name": "ipython",
    "version": 3
   },
   "file_extension": ".py",
   "mimetype": "text/x-python",
   "name": "python",
   "nbconvert_exporter": "python",
   "pygments_lexer": "ipython3",
   "version": "3.10.12"
  }
 },
 "nbformat": 4,
 "nbformat_minor": 4
}
