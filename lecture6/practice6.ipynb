{
 "cells": [
  {
   "cell_type": "code",
   "execution_count": 2,
   "id": "ec7ef070-d3cf-4ed6-a2a1-b35ea7bbb892",
   "metadata": {},
   "outputs": [],
   "source": [
    "class Character:\n",
    "    def __init__(\n",
    "        \n",
    "        self, \n",
    "        name: str | None = None,\n",
    "        power: float | int = 100,\n",
    "        skill: float | int = 100,\n",
    "        intellect: float | int = 100,\n",
    "        speed: float | int = 10,\n",
    "        empathy: float | int = 100,\n",
    "        \n",
    "    ):\n",
    "        self.power = power\n",
    "        self.skill = skill\n",
    "        self.name = name\n",
    "        self.intellect = intellect\n",
    "        self.speed = skill/100\n",
    "        self.empathy = empathy\n",
    "        \n",
    "        \n",
    "    def think(self):\n",
    "        if self.intellect > 20:\n",
    "            print (\"I am thinking\")\n",
    "        else:\n",
    "            print (\"I cannot think\")\n",
    "            \n",
    "    def move(self):\n",
    "        if self.speed > 0.5:\n",
    "            print (\"I am running\")\n",
    "        elif self.speed > 0:\n",
    "             print (\"I am moving\")\n",
    "        else:\n",
    "            print (\"I am standing\")\n",
    "            \n",
    "    def wait(self):\n",
    "        if self.speed == 0:\n",
    "            print (\"I am waiting\")\n",
    "            \n",
    "    def damage_done(self, attack_force: float | int, defence_force: float | int) -> float | int:\n",
    "        character_damage = attack_force + self.skill - defence_force\n",
    "        return character_damage \n",
    "         "
   ]
  },
  {
   "cell_type": "code",
   "execution_count": 3,
   "id": "f4c133a9-080c-400d-9e48-a756f4af4b24",
   "metadata": {},
   "outputs": [],
   "source": [
    "class Hero(Character):\n",
    "    eye_color: str = \"light\"\n",
    "    creature: str = \"alive\"\n",
    "    def empathy_check(self):\n",
    "        if self.empathy < 50:\n",
    "            print(\"You are a bad hero\")\n",
    "        else:\n",
    "            print(\"You are a good hero! Keep going\")\n",
    "        "
   ]
  },
  {
   "cell_type": "code",
   "execution_count": 4,
   "id": "d4f095fe-c48e-4069-9f53-50009a067001",
   "metadata": {},
   "outputs": [],
   "source": [
    "class Villain(Character):\n",
    "    eye_color: str = \"dark\"\n",
    "    creature: str = \"dead\"\n",
    "    def empathy_check(self):\n",
    "        if self.empathy < 30:\n",
    "            print(\"You are a good villain\")\n",
    "        else:\n",
    "            print(\"You need to be less empathetic\")"
   ]
  },
  {
   "cell_type": "code",
   "execution_count": 5,
   "id": "b153a31a-6ec5-4231-a441-23b3f936ede9",
   "metadata": {},
   "outputs": [],
   "source": [
    "class Policeman(Hero):\n",
    "    def spell_my_name(self):\n",
    "        print(\"I am a policeman and my name is\", self.name)"
   ]
  },
  {
   "cell_type": "code",
   "execution_count": 6,
   "id": "9175b47d-9b23-4378-8590-2049b685ea6d",
   "metadata": {},
   "outputs": [],
   "source": [
    "class Theif(Villain):\n",
    "    def spell_my_name(self):\n",
    "        print(\"I am a theif and my name is\", self.name)\n",
    "    "
   ]
  },
  {
   "cell_type": "code",
   "execution_count": 7,
   "id": "fa1954c5-6dbc-44e6-85b2-7174ba22c8e9",
   "metadata": {},
   "outputs": [],
   "source": [
    "Policeman1 = Policeman(\n",
    "    name = 'Harry',\n",
    "    power = 70,\n",
    "    skill = 40,\n",
    "    intellect = 60,\n",
    "    empathy = 85, \n",
    ")\n",
    "Policeman2 = Policeman(\n",
    "    name = 'Niall',\n",
    "    power = 50,\n",
    "    skill = 60,\n",
    "    intellect = 70,\n",
    "    empathy = 85, \n",
    ")"
   ]
  },
  {
   "cell_type": "code",
   "execution_count": 8,
   "id": "d1853ddf-9f63-46aa-a9c2-8fd198608936",
   "metadata": {},
   "outputs": [],
   "source": [
    "Theif1 = Theif(\n",
    "    name = 'Zayn',\n",
    "    power = 80,\n",
    "    skill = 70,\n",
    "    intellect = 60,\n",
    "    empathy = 10,    \n",
    ")\n",
    "\n",
    "Theif2 = Theif(\n",
    "    name = 'Louis',\n",
    "    power = 30,\n",
    "    skill = 100,\n",
    "    intellect = 60,\n",
    "    empathy = 30,    \n",
    ")"
   ]
  },
  {
   "cell_type": "code",
   "execution_count": 9,
   "id": "5ea3575d-78aa-4523-a809-a8c454a94021",
   "metadata": {},
   "outputs": [
    {
     "name": "stdout",
     "output_type": "stream",
     "text": [
      "You are a good hero! Keep going\n"
     ]
    }
   ],
   "source": [
    "Policeman1.empathy_check()"
   ]
  },
  {
   "cell_type": "code",
   "execution_count": 10,
   "id": "b060fed8-b97f-490d-b159-cd31fe6e8f4e",
   "metadata": {},
   "outputs": [
    {
     "name": "stdout",
     "output_type": "stream",
     "text": [
      "You are a good villain\n"
     ]
    }
   ],
   "source": [
    "Theif1.empathy_check()"
   ]
  },
  {
   "cell_type": "code",
   "execution_count": 11,
   "id": "6880bd69-f236-4891-b62e-84fe51b10b95",
   "metadata": {},
   "outputs": [
    {
     "data": {
      "text/plain": [
       "0"
      ]
     },
     "execution_count": 11,
     "metadata": {},
     "output_type": "execute_result"
    }
   ],
   "source": [
    "Policeman1.damage_done(10,50)"
   ]
  },
  {
   "cell_type": "code",
   "execution_count": 12,
   "id": "3eea5cc0-a5d1-4b41-9b83-8ba978c8ba99",
   "metadata": {},
   "outputs": [
    {
     "data": {
      "text/plain": [
       "130"
      ]
     },
     "execution_count": 12,
     "metadata": {},
     "output_type": "execute_result"
    }
   ],
   "source": [
    "Theif2.damage_done(50,20)"
   ]
  },
  {
   "cell_type": "code",
   "execution_count": 13,
   "id": "700bbac5-e9a6-4d8a-8d5a-edfcb58b45cc",
   "metadata": {},
   "outputs": [
    {
     "name": "stdout",
     "output_type": "stream",
     "text": [
      "I am running\n"
     ]
    }
   ],
   "source": [
    "Policeman2.move()"
   ]
  },
  {
   "cell_type": "code",
   "execution_count": 14,
   "id": "84183009-1999-4a64-a703-f5ccdc8a261d",
   "metadata": {},
   "outputs": [
    {
     "name": "stdout",
     "output_type": "stream",
     "text": [
      "I am moving\n"
     ]
    }
   ],
   "source": [
    "Policeman1.move()"
   ]
  },
  {
   "cell_type": "code",
   "execution_count": 15,
   "id": "021ddc77-1fe8-4ab6-8e74-8407f88fc2e0",
   "metadata": {},
   "outputs": [
    {
     "name": "stdout",
     "output_type": "stream",
     "text": [
      "I am a policeman and my name is Harry\n"
     ]
    }
   ],
   "source": [
    "Policeman1.spell_my_name()"
   ]
  },
  {
   "cell_type": "code",
   "execution_count": 16,
   "id": "a8a09108-6342-4ea9-82f7-72bb6035c9df",
   "metadata": {},
   "outputs": [
    {
     "name": "stdout",
     "output_type": "stream",
     "text": [
      "I am a theif and my name is Zayn\n"
     ]
    }
   ],
   "source": [
    "Theif1.spell_my_name()"
   ]
  }
 ],
 "metadata": {
  "kernelspec": {
   "display_name": "Python 3 (ipykernel)",
   "language": "python",
   "name": "python3"
  },
  "language_info": {
   "codemirror_mode": {
    "name": "ipython",
    "version": 3
   },
   "file_extension": ".py",
   "mimetype": "text/x-python",
   "name": "python",
   "nbconvert_exporter": "python",
   "pygments_lexer": "ipython3",
   "version": "3.11.5"
  }
 },
 "nbformat": 4,
 "nbformat_minor": 5
}
