{
 "cells": [
  {
   "cell_type": "code",
   "execution_count": 1,
   "id": "ff4b0771-ff7c-450f-9392-2ca41540799a",
   "metadata": {},
   "outputs": [],
   "source": [
    "class MixinCastSpells:\n",
    "    def Spells(self):\n",
    "        print('Wingardium Leviosa!') \n",
    "        \n",
    "class MixinPlayQuiddich:\n",
    "    def Quiddich(self):\n",
    "        print('I can play Quiddich')\n",
    "\n",
    "class MixinWalkability:\n",
    "    def walk(self):\n",
    "        print('I walk')\n",
    "              \n",
    "class MixinTalkability:\n",
    "    def talk(self):\n",
    "        print (\"I am a wizard!\")\n",
    "\n",
    "class MixinHeadBounce:\n",
    "    def HeadTurn(self):\n",
    "        print (\"My head turns\")\n",
    "        \n",
    "class MixinStand:\n",
    "    def Stand(self):\n",
    "        print (\"I stand\")\n",
    "        \n",
    "class MixinFall:\n",
    "    def Fall(self):\n",
    "        print (\"I'm faaaaling again\")\n",
    "    \n"
   ]
  },
  {
   "cell_type": "code",
   "execution_count": 2,
   "id": "35384414-6d5b-4ef0-ab62-d25365c2e071",
   "metadata": {},
   "outputs": [],
   "source": [
    "class Character:\n",
    "\n",
    "    def __init__(\n",
    "        self, \n",
    "        name: str | None = None,\n",
    "        height: float = 12.5,\n",
    "        hair_color: str = 'blue',\n",
    "        eye_color: str = 'red',\n",
    "        \n",
    "    ):\n",
    "        self.hair_color = hair_color \n",
    "        self.eye_color = eye_color\n",
    "        self.name = name\n",
    "        self.height = height\n",
    "        print('Character Initialization')\n",
    "    \n",
    "    "
   ]
  },
  {
   "cell_type": "code",
   "execution_count": 3,
   "id": "281378d7-3de2-47e0-b508-d1a3c517e137",
   "metadata": {},
   "outputs": [],
   "source": [
    "class HarryPotter (Character):\n",
    "\n",
    "    def __init__(\n",
    "        \n",
    "        self,\n",
    "        name = \"Harry Potter\",\n",
    "        height: float = 180,\n",
    "        hair_color: str = 'brown',\n",
    "        eye_color: str = 'blue',\n",
    "        magical_powers: bool = True,\n",
    "        house: str = \"Gryffindor\",\n",
    "        face_scar: bool = True\n",
    "        \n",
    "    ):\n",
    "        self.name: str = name\n",
    "        self.height: float = height\n",
    "        self.hair_color: float = hair_color\n",
    "        self.eye_color: str = eye_color\n",
    "        self. magical_powers: float =  magical_powers\n",
    "        self.house: str = house\n",
    "        self.face_scar: bool = True\n",
    "        print (\"Harry Potter is initialized\")\n",
    "\n",
    "class HermioneGranger (Character):\n",
    "\n",
    "    def __init__(\n",
    "        \n",
    "        self,\n",
    "        name = \"Hermione Granger\",\n",
    "        height: float = 170,\n",
    "        hair_color: str = 'ginger',\n",
    "        eye_color: str = 'brown',\n",
    "        magical_powers: bool = True,\n",
    "        house: str = \"Gryffindor\",\n",
    "        face_scar: bool = False\n",
    "        \n",
    "    ):\n",
    "        self.name: str = name\n",
    "        self.height: float = height\n",
    "        self.hair_color: float = hair_color\n",
    "        self.eye_color: str = eye_color\n",
    "        self. magical_powers: float =  magical_powers\n",
    "        self.house: str = house\n",
    "        self.face_scar: bool = True\n",
    "        print (\"Hermione Granger is initialized\")\n",
    "\n",
    "class DracoMalfoy (Character):\n",
    "\n",
    "    def __init__(\n",
    "        \n",
    "        self,\n",
    "        name = \"Draco Malfoy\",\n",
    "        height: float = 180,\n",
    "        hair_color: str = 'blonde',\n",
    "        eye_color: str = 'blue',\n",
    "        magical_powers: bool = True,\n",
    "        house: str = \"Slytherin\",\n",
    "        face_scar: bool = False\n",
    "        \n",
    "    ):\n",
    "        self.name: str = name\n",
    "        self.height: float = height\n",
    "        self.hair_color: float = hair_color\n",
    "        self.eye_color: str = eye_color\n",
    "        self. magical_powers: float =  magical_powers\n",
    "        self.house: str = house\n",
    "        self.face_scar: bool = True\n",
    "        print (\"Draco Malfoy is initialized\")\n",
    "    \n",
    "    "
   ]
  },
  {
   "cell_type": "code",
   "execution_count": 4,
   "id": "4934a878-5c5e-418b-bb5e-dde6179024a8",
   "metadata": {},
   "outputs": [],
   "source": [
    "class Playable(\n",
    "    MixinWalkability,\n",
    "    MixinTalkability,\n",
    "    MixinFall,\n",
    "    MixinStand,\n",
    "    MixinHeadBounce  \n",
    "):\n",
    "    pass"
   ]
  },
  {
   "cell_type": "code",
   "execution_count": 5,
   "id": "5b923218-be3a-4830-8d19-5f9942dfe0eb",
   "metadata": {},
   "outputs": [],
   "source": [
    "class FunkoPop(\n",
    "    MixinFall,\n",
    "    MixinStand,\n",
    "    MixinHeadBounce\n",
    "):\n",
    "    pass   "
   ]
  },
  {
   "cell_type": "code",
   "execution_count": 6,
   "id": "04eb9146-b413-43ad-a312-28a8bd4f3b4a",
   "metadata": {},
   "outputs": [],
   "source": [
    "class HarryPotter_FunkoPop (FunkoPop, HarryPotter):\n",
    "    pass "
   ]
  },
  {
   "cell_type": "code",
   "execution_count": 7,
   "id": "f161174e-9121-408d-8fe9-15a6da1093a0",
   "metadata": {},
   "outputs": [],
   "source": [
    "class HarryPotter_Playable(Playable, HarryPotter, MixinCastSpells,\n",
    "    MixinPlayQuiddich):\n",
    "    pass"
   ]
  },
  {
   "cell_type": "code",
   "execution_count": 8,
   "id": "e208969a-ec29-41e8-88d2-8d5286caac87",
   "metadata": {},
   "outputs": [],
   "source": [
    "class HermioneGranger_FunkoPop (FunkoPop, HermioneGranger):\n",
    "    pass\n",
    "class HermioneGranger_Playable (Playable, HermioneGranger, MixinCastSpells):\n",
    "    pass"
   ]
  },
  {
   "cell_type": "code",
   "execution_count": 9,
   "id": "b28745dd-d1c4-460b-a413-c3b687f0e270",
   "metadata": {},
   "outputs": [],
   "source": [
    "class DracoMalfoy_FunkoPop (FunkoPop, DracoMalfoy):\n",
    "    pass\n",
    "class DracoMalfoy_Playable (Playable, DracoMalfoy, MixinCastSpells, MixinPlayQuiddich):\n",
    "    pass"
   ]
  },
  {
   "cell_type": "code",
   "execution_count": 10,
   "id": "3b7411d3-7877-476d-9f69-04d4b9c96a5d",
   "metadata": {},
   "outputs": [
    {
     "name": "stdout",
     "output_type": "stream",
     "text": [
      "Harry Potter is initialized\n"
     ]
    }
   ],
   "source": [
    "HarryPlay = HarryPotter_Playable ()"
   ]
  },
  {
   "cell_type": "code",
   "execution_count": 11,
   "id": "f3e39ec4-2474-41e6-a018-00991064ff36",
   "metadata": {},
   "outputs": [
    {
     "name": "stdout",
     "output_type": "stream",
     "text": [
      "Harry Potter is initialized\n"
     ]
    }
   ],
   "source": [
    "HarryToy = HarryPotter_FunkoPop()"
   ]
  },
  {
   "cell_type": "code",
   "execution_count": 12,
   "id": "aaf8948f-3b20-4112-8a01-a6c7576901f1",
   "metadata": {},
   "outputs": [
    {
     "name": "stdout",
     "output_type": "stream",
     "text": [
      "I walk\n"
     ]
    }
   ],
   "source": [
    "HarryPlay.walk()"
   ]
  },
  {
   "cell_type": "code",
   "execution_count": 13,
   "id": "4b08fa45-9b21-4324-8975-bcc9e565d180",
   "metadata": {},
   "outputs": [
    {
     "ename": "AttributeError",
     "evalue": "'HarryPotter_FunkoPop' object has no attribute 'walk'",
     "output_type": "error",
     "traceback": [
      "\u001b[1;31m---------------------------------------------------------------------------\u001b[0m",
      "\u001b[1;31mAttributeError\u001b[0m                            Traceback (most recent call last)",
      "Cell \u001b[1;32mIn[13], line 1\u001b[0m\n\u001b[1;32m----> 1\u001b[0m \u001b[43mHarryToy\u001b[49m\u001b[38;5;241;43m.\u001b[39;49m\u001b[43mwalk\u001b[49m()\n",
      "\u001b[1;31mAttributeError\u001b[0m: 'HarryPotter_FunkoPop' object has no attribute 'walk'"
     ]
    }
   ],
   "source": [
    "HarryToy.walk()"
   ]
  },
  {
   "cell_type": "code",
   "execution_count": 14,
   "id": "ca20af11-b17c-4459-b1e4-e5a5ed0fad42",
   "metadata": {},
   "outputs": [
    {
     "data": {
      "text/plain": [
       "'blue'"
      ]
     },
     "execution_count": 14,
     "metadata": {},
     "output_type": "execute_result"
    }
   ],
   "source": [
    "HarryToy.eye_color"
   ]
  },
  {
   "cell_type": "code",
   "execution_count": 15,
   "id": "8e7fddb9-be62-4ca0-a19b-5209cd627c45",
   "metadata": {},
   "outputs": [
    {
     "data": {
      "text/plain": [
       "'blue'"
      ]
     },
     "execution_count": 15,
     "metadata": {},
     "output_type": "execute_result"
    }
   ],
   "source": [
    "HarryPlay.eye_color"
   ]
  },
  {
   "cell_type": "code",
   "execution_count": 16,
   "id": "862efdc5-9f2b-4aa9-93c3-4d94fd70979b",
   "metadata": {},
   "outputs": [
    {
     "name": "stdout",
     "output_type": "stream",
     "text": [
      "I can play Quiddich\n"
     ]
    }
   ],
   "source": [
    "HarryPlay.Quiddich()"
   ]
  },
  {
   "cell_type": "code",
   "execution_count": 17,
   "id": "3082c694-aad8-4aa9-afac-b414de146690",
   "metadata": {},
   "outputs": [
    {
     "ename": "AttributeError",
     "evalue": "'HarryPotter_FunkoPop' object has no attribute 'Quiddich'",
     "output_type": "error",
     "traceback": [
      "\u001b[1;31m---------------------------------------------------------------------------\u001b[0m",
      "\u001b[1;31mAttributeError\u001b[0m                            Traceback (most recent call last)",
      "Cell \u001b[1;32mIn[17], line 1\u001b[0m\n\u001b[1;32m----> 1\u001b[0m \u001b[43mHarryToy\u001b[49m\u001b[38;5;241;43m.\u001b[39;49m\u001b[43mQuiddich\u001b[49m()\n",
      "\u001b[1;31mAttributeError\u001b[0m: 'HarryPotter_FunkoPop' object has no attribute 'Quiddich'"
     ]
    }
   ],
   "source": [
    "HarryToy.Quiddich()"
   ]
  },
  {
   "cell_type": "code",
   "execution_count": 18,
   "id": "c95aee70-de12-4223-89d2-b43987244b6f",
   "metadata": {},
   "outputs": [
    {
     "name": "stdout",
     "output_type": "stream",
     "text": [
      "Hermione Granger is initialized\n"
     ]
    }
   ],
   "source": [
    "HermioneToy = HermioneGranger_FunkoPop()"
   ]
  },
  {
   "cell_type": "code",
   "execution_count": 19,
   "id": "b4b97966-865b-4cf1-82ea-b815edddb52b",
   "metadata": {},
   "outputs": [
    {
     "name": "stdout",
     "output_type": "stream",
     "text": [
      "Hermione Granger is initialized\n"
     ]
    }
   ],
   "source": [
    "HermionePlay = HermioneGranger_Playable()"
   ]
  },
  {
   "cell_type": "code",
   "execution_count": 20,
   "id": "e9acac34-6b9c-427d-8a07-98159ea81f9d",
   "metadata": {},
   "outputs": [
    {
     "ename": "AttributeError",
     "evalue": "'HermioneGranger_FunkoPop' object has no attribute 'Spells'",
     "output_type": "error",
     "traceback": [
      "\u001b[1;31m---------------------------------------------------------------------------\u001b[0m",
      "\u001b[1;31mAttributeError\u001b[0m                            Traceback (most recent call last)",
      "Cell \u001b[1;32mIn[20], line 1\u001b[0m\n\u001b[1;32m----> 1\u001b[0m \u001b[43mHermioneToy\u001b[49m\u001b[38;5;241;43m.\u001b[39;49m\u001b[43mSpells\u001b[49m()\n",
      "\u001b[1;31mAttributeError\u001b[0m: 'HermioneGranger_FunkoPop' object has no attribute 'Spells'"
     ]
    }
   ],
   "source": [
    "HermioneToy.Spells()"
   ]
  },
  {
   "cell_type": "code",
   "execution_count": 21,
   "id": "b90b0047-6be4-494a-baf2-2753bddb14fd",
   "metadata": {},
   "outputs": [
    {
     "name": "stdout",
     "output_type": "stream",
     "text": [
      "Wingardium Leviosa!\n"
     ]
    }
   ],
   "source": [
    "HermionePlay.Spells()"
   ]
  },
  {
   "cell_type": "code",
   "execution_count": 22,
   "id": "d3d0c02e-f628-4f2b-b524-c8329a2e2220",
   "metadata": {},
   "outputs": [
    {
     "name": "stdout",
     "output_type": "stream",
     "text": [
      "Draco Malfoy is initialized\n"
     ]
    }
   ],
   "source": [
    "DracoPlay = DracoMalfoy_Playable()"
   ]
  },
  {
   "cell_type": "code",
   "execution_count": 23,
   "id": "33d47103-35b4-4536-9104-825aa88c0e78",
   "metadata": {},
   "outputs": [
    {
     "name": "stdout",
     "output_type": "stream",
     "text": [
      "Draco Malfoy is initialized\n"
     ]
    }
   ],
   "source": [
    "DracoToy = DracoMalfoy_FunkoPop()"
   ]
  },
  {
   "cell_type": "code",
   "execution_count": 24,
   "id": "bc2c1bea-5c77-4f75-9363-b3a9a647f332",
   "metadata": {},
   "outputs": [
    {
     "ename": "AttributeError",
     "evalue": "'DracoMalfoy_FunkoPop' object has no attribute 'Spells'",
     "output_type": "error",
     "traceback": [
      "\u001b[1;31m---------------------------------------------------------------------------\u001b[0m",
      "\u001b[1;31mAttributeError\u001b[0m                            Traceback (most recent call last)",
      "Cell \u001b[1;32mIn[24], line 1\u001b[0m\n\u001b[1;32m----> 1\u001b[0m \u001b[43mDracoToy\u001b[49m\u001b[38;5;241;43m.\u001b[39;49m\u001b[43mSpells\u001b[49m()\n",
      "\u001b[1;31mAttributeError\u001b[0m: 'DracoMalfoy_FunkoPop' object has no attribute 'Spells'"
     ]
    }
   ],
   "source": [
    "DracoToy.Spells()"
   ]
  },
  {
   "cell_type": "code",
   "execution_count": 25,
   "id": "c3a2ca03-3188-4aa1-b55d-f3411806539c",
   "metadata": {},
   "outputs": [
    {
     "name": "stdout",
     "output_type": "stream",
     "text": [
      "Wingardium Leviosa!\n"
     ]
    }
   ],
   "source": [
    "DracoPlay.Spells()"
   ]
  }
 ],
 "metadata": {
  "kernelspec": {
   "display_name": "Python 3 (ipykernel)",
   "language": "python",
   "name": "python3"
  },
  "language_info": {
   "codemirror_mode": {
    "name": "ipython",
    "version": 3
   },
   "file_extension": ".py",
   "mimetype": "text/x-python",
   "name": "python",
   "nbconvert_exporter": "python",
   "pygments_lexer": "ipython3",
   "version": "3.11.5"
  }
 },
 "nbformat": 4,
 "nbformat_minor": 5
}
