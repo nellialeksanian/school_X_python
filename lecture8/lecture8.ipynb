{
 "cells": [
  {
   "cell_type": "code",
   "execution_count": 31,
   "metadata": {},
   "outputs": [],
   "source": [
    "class MosquitoesCloud:\n",
    "\n",
    "    def __init__(\n",
    "                \n",
    "            self, \n",
    "            damage_per_mosquito: float = 1.7,\n",
    "            mosquitos_in_cloud: int = 5\n",
    "        ):\n",
    "    \n",
    "            if damage_per_mosquito is not None and mosquitos_in_cloud is not None:\n",
    "                self.damage_per_mosquito = damage_per_mosquito\n",
    "                self.mosquitos_in_cloud = mosquitos_in_cloud\n",
    "                self.damage = damage_per_mosquito * mosquitos_in_cloud\n",
    "            else:\n",
    "                 raise ValueError('Please provide corect variables')\n",
    "            \n",
    "    def __add__(self: 'MosquitoesCloud', other: 'MosquitoesCloud') ->'MosquitoesCloud': #self is the class other is another class to sum \n",
    "         new_mosquitoes_cloud = MosquitoesCloud (\n",
    "              damage_per_mosquito= ((self.damage_per_mosquito + other.damage_per_mosquito)/2),\n",
    "              mosquitos_in_cloud= ((self.mosquitos_in_cloud+other.mosquitos_in_cloud)/2)\n",
    "         )\n",
    "         return new_mosquitoes_cloud\n",
    "    \n",
    "    def __lt__(self, other):\n",
    "         return self.mosquitos_in_cloud < other.mosquitos_in_cloud\n",
    "    \n",
    "    def __le__(self, other):\n",
    "         return self.mosquitos_in_cloud <= other.mosquitos_in_cloud"
   ]
  },
  {
   "cell_type": "code",
   "execution_count": 40,
   "metadata": {},
   "outputs": [
    {
     "data": {
      "text/plain": [
       "17.0"
      ]
     },
     "execution_count": 40,
     "metadata": {},
     "output_type": "execute_result"
    }
   ],
   "source": [
    "mcloud1 = MosquitoesCloud(\n",
    "    mosquitos_in_cloud=10\n",
    ")\n",
    "mcloud1.damage"
   ]
  },
  {
   "cell_type": "code",
   "execution_count": 33,
   "metadata": {},
   "outputs": [
    {
     "data": {
      "text/plain": [
       "17.0"
      ]
     },
     "execution_count": 33,
     "metadata": {},
     "output_type": "execute_result"
    }
   ],
   "source": [
    "mcloud2 = MosquitoesCloud(\n",
    "    mosquitos_in_cloud = 10\n",
    ")\n",
    "mcloud2.damage"
   ]
  },
  {
   "cell_type": "code",
   "execution_count": 34,
   "metadata": {},
   "outputs": [
    {
     "data": {
      "text/plain": [
       "12.75"
      ]
     },
     "execution_count": 34,
     "metadata": {},
     "output_type": "execute_result"
    }
   ],
   "source": [
    "mcloud3 = mcloud1+mcloud2\n",
    "mcloud3.damage"
   ]
  },
  {
   "cell_type": "code",
   "execution_count": 41,
   "metadata": {},
   "outputs": [
    {
     "data": {
      "text/plain": [
       "True"
      ]
     },
     "execution_count": 41,
     "metadata": {},
     "output_type": "execute_result"
    }
   ],
   "source": [
    "mcloud1.mosquitos_in_cloud==mcloud2.mosquitos_in_cloud"
   ]
  }
 ],
 "metadata": {
  "kernelspec": {
   "display_name": "Python 3",
   "language": "python",
   "name": "python3"
  },
  "language_info": {
   "codemirror_mode": {
    "name": "ipython",
    "version": 3
   },
   "file_extension": ".py",
   "mimetype": "text/x-python",
   "name": "python",
   "nbconvert_exporter": "python",
   "pygments_lexer": "ipython3",
   "version": "3.11.0"
  },
  "orig_nbformat": 4
 },
 "nbformat": 4,
 "nbformat_minor": 2
}
