{
 "cells": [
  {
   "cell_type": "code",
   "execution_count": 564,
   "metadata": {},
   "outputs": [
    {
     "name": "stdout",
     "output_type": "stream",
     "text": [
      "Note: you may need to restart the kernel to use updated packages.\n",
      "Note: you may need to restart the kernel to use updated packages.\n"
     ]
    }
   ],
   "source": [
    "%pip install -q ipytest pytest\n",
    "%pip install -Uq numpy\n",
    "\n",
    "import ipytest\n",
    "import pytest\n",
    "import numpy as np\n",
    "ipytest.autoconfig()"
   ]
  },
  {
   "cell_type": "code",
   "execution_count": 597,
   "metadata": {},
   "outputs": [],
   "source": [
    "class Matrix:\n",
    "\n",
    "   def __init__(  \n",
    "         self, \n",
    "         matrix = [],\n",
    "         rows: int = 0,\n",
    "         cols: int = 0,\n",
    "      ):\n",
    "         self.matrix = matrix\n",
    "         self.rows = rows\n",
    "         self.cols = cols\n",
    "         self.rows = len(self.matrix)\n",
    "         self.cols = len(self.matrix[0])\n",
    "      \n",
    "   def T(self):\n",
    "      transposed = [[0 for i in range(self.rows)] for j in range(self.cols)]\n",
    "      for i in range(self.rows):\n",
    "         for j in range(self.cols):\n",
    "            transposed[j][i] = self.matrix[i][j]\n",
    "      return transposed\n",
    "        \n",
    "\n",
    "   def __matmul__(self: 'Matrix', other: 'Matrix') -> 'Matrix': \n",
    "      if self.cols != other.rows:\n",
    "         raise ArithmeticError ('Number of columns in the first matrix must match the number of rows in the second matrix for multiplication')\n",
    "      else:\n",
    "            # new_matrix = [[0 for i in range(other.cols)] for j in range(self.rows)]\n",
    "         new_matrix = []\n",
    "         for i in range(self.rows):\n",
    "            temp_list=[]\n",
    "            for j in range(other.cols):\n",
    "               sum = 0\n",
    "               for k in range(self.cols):\n",
    "                  sum = sum + self.matrix[i][k] * other.matrix[k][j]\n",
    "               temp_list.append(sum)\n",
    "            new_matrix.append(temp_list)\n",
    "                  # new_matrix[i][j] += self.matrix[i][k] * other.matrix[k][j]\n",
    "         return new_matrix\n",
    "      \n",
    "\n",
    "         \n",
    "   def __add__(self: 'Matrix', other: 'Matrix') -> 'Matrix': #self is the class other is another class to sum \n",
    "      if isinstance(other, Matrix):\n",
    "         if (self.rows, self.cols) != (other.rows, other.cols):\n",
    "            raise ArithmeticError('Matrices are NOT the same size.')\n",
    "         else:\n",
    "            try: \n",
    "               new_matrix = []\n",
    "               for i in range(self.rows): #строку\n",
    "                  temp_row = []\n",
    "                  for j in range(self.cols): #столбцы\n",
    "                     temp_row.append(self.matrix[i][j]+other.matrix[i][j])\n",
    "                  new_matrix.append(temp_row)\n",
    "               return new_matrix\n",
    "            except (IndexError):\n",
    "               print(f'Matrices are NOT the same size.') \n",
    "      elif isinstance(other, int | float):\n",
    "          new_matrix = []\n",
    "          for i in range(self.rows): #строку\n",
    "               temp_row = []\n",
    "               for j in range(self.cols): #столбцы\n",
    "                  temp_row.append(self.matrix[i][j] + other)\n",
    "               new_matrix.append(temp_row)\n",
    "          return new_matrix\n",
    "\n",
    "   def __sub__(self: 'Matrix', other: 'Matrix') -> 'Matrix': #self is the class other is another class to sum \n",
    "      if isinstance(other, Matrix):\n",
    "         if (self.rows, self.cols) != (other.rows, other.cols):\n",
    "            raise ArithmeticError('Matrices are NOT the same size.')\n",
    "         else:\n",
    "            try: \n",
    "               new_matrix = []\n",
    "               for i in range(self.rows): #строку\n",
    "                  temp_row = []\n",
    "                  for j in range(self.cols): #столбцы\n",
    "                     temp_row.append(self.matrix[i][j]-other.matrix[i][j])\n",
    "                  new_matrix.append(temp_row)\n",
    "               return new_matrix\n",
    "            except (IndexError):\n",
    "               print(f'Matrices are NOT the same size.') \n",
    "      elif isinstance(other, int | float):\n",
    "          new_matrix = []\n",
    "          for i in range(self.rows): #строку\n",
    "               temp_row = []\n",
    "               for j in range(self.cols): #столбцы\n",
    "                  temp_row.append(self.matrix[i][j] - other)\n",
    "               new_matrix.append(temp_row)\n",
    "          return new_matrix\n",
    "      \n",
    "   def __mul__(self: 'Matrix', other: 'Matrix') -> 'Matrix': #self is the class other is another class to sum \n",
    "      if isinstance(other, Matrix):\n",
    "         if (self.rows, self.cols) != (other.rows, other.cols):\n",
    "            raise ArithmeticError('Matrices are NOT the same size.')\n",
    "         else:\n",
    "            try: \n",
    "               new_matrix = []\n",
    "               for i in range(self.rows): #строку\n",
    "                  temp_row = []\n",
    "                  for j in range(self.cols): #столбцы\n",
    "                     temp_row.append(self.matrix[i][j] * other.matrix[i][j])\n",
    "                  new_matrix.append(temp_row)\n",
    "               return new_matrix\n",
    "            except (IndexError):\n",
    "               print(f'Matrices are NOT the same size.') \n",
    "      elif isinstance(other, int | float):\n",
    "          new_matrix = []\n",
    "          for i in range(self.rows): #строку\n",
    "               temp_row = []\n",
    "               for j in range(self.cols): #столбцы\n",
    "                  temp_row.append(self.matrix[i][j] * other)\n",
    "               new_matrix.append(temp_row)\n",
    "          return new_matrix\n",
    "   \n",
    "   def __truediv__(self: 'Matrix', other: 'Matrix') -> 'Matrix': #self is the class other is another class to sum \n",
    "      if isinstance(other, Matrix):\n",
    "         if (self.rows, self.cols) != (other.rows, other.cols):\n",
    "            raise ArithmeticError('Matrices are NOT the same size.')\n",
    "         else:\n",
    "            try: \n",
    "               new_matrix = []\n",
    "               for i in range(self.rows): #строку\n",
    "                  temp_row = []\n",
    "                  for j in range(self.cols): #столбцы\n",
    "                     temp_row.append(self.matrix[i][j] / other.matrix[i][j])\n",
    "                  new_matrix.append(temp_row)\n",
    "               return new_matrix\n",
    "            except (IndexError):\n",
    "               print(f'Matrices are NOT the same size.') \n",
    "      elif isinstance(other, int | float):\n",
    "          new_matrix = []\n",
    "          for i in range(self.rows): #строку\n",
    "               temp_row = []\n",
    "               for j in range(self.cols): #столбцы\n",
    "                  temp_row.append(self.matrix[i][j] / other)\n",
    "               new_matrix.append(temp_row)\n",
    "          return new_matrix\n",
    "\n",
    "        \n",
    "             \n",
    "   def __repr__(self):\n",
    "      return str(self.matrix)      \n",
    "          "
   ]
  },
  {
   "cell_type": "code",
   "execution_count": 575,
   "metadata": {},
   "outputs": [
    {
     "name": "stdout",
     "output_type": "stream",
     "text": [
      "2 2\n"
     ]
    },
    {
     "data": {
      "text/plain": [
       "[[2, 4], [-3, -6]]"
      ]
     },
     "execution_count": 575,
     "metadata": {},
     "output_type": "execute_result"
    }
   ],
   "source": [
    "array1 = Matrix([[2,-3],\n",
    "                 [4,-6]]\n",
    ")\n",
    "array1.T()"
   ]
  },
  {
   "cell_type": "code",
   "execution_count": 576,
   "metadata": {},
   "outputs": [
    {
     "name": "stdout",
     "output_type": "stream",
     "text": [
      "2 2\n"
     ]
    },
    {
     "data": {
      "text/plain": [
       "[[9, -6], [6, -4]]"
      ]
     },
     "execution_count": 576,
     "metadata": {},
     "output_type": "execute_result"
    }
   ],
   "source": [
    "array2 = Matrix ([[9,-6],\n",
    "                  [6, -4]]\n",
    ")\n",
    "array2.matrix"
   ]
  },
  {
   "cell_type": "code",
   "execution_count": 588,
   "metadata": {},
   "outputs": [
    {
     "data": {
      "text/plain": [
       "[[0, 0], [0, 0]]"
      ]
     },
     "execution_count": 588,
     "metadata": {},
     "output_type": "execute_result"
    }
   ],
   "source": [
    "\n",
    "array1@array2\n",
    "\n"
   ]
  },
  {
   "cell_type": "code",
   "execution_count": 598,
   "metadata": {},
   "outputs": [
    {
     "name": "stdout",
     "output_type": "stream",
     "text": [
      "\u001b[32m.\u001b[0m\u001b[32m.\u001b[0m\u001b[32m.\u001b[0m\u001b[32m.\u001b[0m\u001b[32m.\u001b[0m\u001b[32m.\u001b[0m\u001b[32m.\u001b[0m\u001b[32m.\u001b[0m\u001b[32m.\u001b[0m\u001b[32m                                                                                    [100%]\u001b[0m\n",
      "\u001b[32m\u001b[32m\u001b[1m9 passed\u001b[0m\u001b[32m in 0.19s\u001b[0m\u001b[0m\n"
     ]
    }
   ],
   "source": [
    "%%ipytest\n",
    "\n",
    "matrix1 = Matrix([[2,-3],\n",
    "                 [4,-6]])\n",
    "matrix2 = Matrix([[9,-6],\n",
    "                  [6, -4]])\n",
    "\n",
    "\n",
    "@pytest.mark.parametrize(\"matrix1,matrix2\", [[matrix1, matrix2]])\n",
    "def test_matrix_add_matrix(matrix1: Matrix, matrix2: Matrix):\n",
    "    assert (\n",
    "        (matrix1 + matrix2 == (np.array(matrix1.matrix) + np.array(matrix2.matrix))).all()\n",
    "    ), 'add section with matrices is not working right'\n",
    "\n",
    "@pytest.mark.parametrize(\"matrix1,number\", [[matrix1, 13.2]])\n",
    "def test_matrix_add_number(matrix1: Matrix, number: int | float):\n",
    "    assert (\n",
    "        (matrix1 + number == np.array(matrix1.matrix) + number).all()\n",
    "    ), 'add section with matrix and number is not working right'\n",
    "    \n",
    "@pytest.mark.parametrize(\"matrix1,number\", [[matrix1, 12.2]])    \n",
    "def test_matrix_sub_number(matrix1: Matrix, number: int | float):\n",
    "    assert (\n",
    "        (matrix1 - number == np.array(matrix1.matrix) - number).all()\n",
    "    ), 'sub section with matrix and number is not working right'\n",
    "    \n",
    "@pytest.mark.parametrize(\"matrix1\", [matrix1])    \n",
    "def test_matrix_transpose(matrix1: Matrix):\n",
    "    assert (\n",
    "        (matrix1.T() == np.array(matrix1.matrix).T).all()\n",
    "    ), 'transpose section is not working right'\n",
    "\n",
    "@pytest.mark.parametrize(\"matrix1,matrix2\", [[matrix1, matrix2]])\n",
    "def test_matrix_sub_matrix(matrix1: Matrix, matrix2: Matrix):\n",
    "    assert (\n",
    "        (matrix1 - matrix2 == np.array(matrix1.matrix) - np.array(matrix2.matrix)).all()\n",
    "    ), 'sub section with matrices is not working right'\n",
    "\n",
    "@pytest.mark.parametrize(\"matrix1,matrix2\", [[matrix1, matrix2]])\n",
    "def test_matrix_mul_matrix(matrix1: Matrix, matrix2: Matrix):\n",
    "    assert (\n",
    "        (matrix1 * matrix2 == np.array(matrix1.matrix) * np.array(matrix2.matrix)).all()\n",
    "    ), 'mul section with matrices is not working right'\n",
    "\n",
    "@pytest.mark.parametrize(\"matrix1,number\", [[matrix1, 13]])\n",
    "def test_matrix_mul_number(matrix1: Matrix, number: int | float):\n",
    "    assert (\n",
    "        (matrix1 * number == np.array(matrix1.matrix) * number).all()\n",
    "    ), 'mul section with matrix and number is not working right'\n",
    "\n",
    "@pytest.mark.parametrize(\"matrix1,matrix2\", [[matrix1, matrix2]])    \n",
    "def test_matrix_div_matrix(matrix1: Matrix, matrix2: Matrix):\n",
    "    assert (\n",
    "        (matrix1 / matrix2 == np.array(matrix1.matrix) / np.array(matrix2.matrix)).all()\n",
    "    ), 'div section with matrices is not working right'\n",
    "\n",
    "@pytest.mark.parametrize(\"matrix1,number\", [[matrix1, 2]])    \n",
    "def test_matrix_div_number(matrix1: Matrix, number: int | float):\n",
    "    assert (\n",
    "        (matrix1 / number == np.array(matrix1.matrix) / number).all()\n",
    "    ), 'div section with matrix and number is not working right'\n",
    "\n"
   ]
  }
 ],
 "metadata": {
  "kernelspec": {
   "display_name": "Python 3",
   "language": "python",
   "name": "python3"
  },
  "language_info": {
   "codemirror_mode": {
    "name": "ipython",
    "version": 3
   },
   "file_extension": ".py",
   "mimetype": "text/x-python",
   "name": "python",
   "nbconvert_exporter": "python",
   "pygments_lexer": "ipython3",
   "version": "3.11.5"
  },
  "orig_nbformat": 4
 },
 "nbformat": 4,
 "nbformat_minor": 2
}
